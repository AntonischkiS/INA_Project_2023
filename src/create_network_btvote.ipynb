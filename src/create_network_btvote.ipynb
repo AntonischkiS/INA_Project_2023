{
 "cells": [
  {
   "cell_type": "code",
   "execution_count": null,
   "metadata": {},
   "outputs": [],
   "source": [
    "import pandas as pd\n",
    "from collections import defaultdict, Counter\n",
    "import utils\n",
    "import os\n",
    "from create_network import get_fraction_color\n",
    "from tqdm import tqdm"
   ]
  },
  {
   "cell_type": "code",
   "execution_count": null,
   "metadata": {},
   "outputs": [],
   "source": [
    "BASE_PATH = 'graphs/Bundestag/'"
   ]
  },
  {
   "cell_type": "code",
   "execution_count": null,
   "metadata": {},
   "outputs": [],
   "source": [
    "data = pd.read_stata('data/BTVote/voting_behavior_V2_19492021.dta')\n",
    "data"
   ]
  },
  {
   "cell_type": "code",
   "execution_count": null,
   "metadata": {},
   "outputs": [],
   "source": [
    "eps = data['elecper'].unique()\n",
    "eps"
   ]
  },
  {
   "cell_type": "code",
   "execution_count": null,
   "metadata": {},
   "outputs": [],
   "source": [
    "ep = 15  # set election period"
   ]
  },
  {
   "cell_type": "code",
   "execution_count": null,
   "metadata": {},
   "outputs": [],
   "source": [
    "DISREGARD_ABSENCE = False"
   ]
  },
  {
   "cell_type": "code",
   "execution_count": null,
   "metadata": {},
   "outputs": [],
   "source": [
    "data_ep = data[data['elecper'] == ep]\n",
    "data_ep['vote_beh'].unique()"
   ]
  },
  {
   "cell_type": "code",
   "execution_count": null,
   "metadata": {},
   "outputs": [],
   "source": [
    "poll_ids = data_ep['vote_id'].unique().astype(int)"
   ]
  },
  {
   "cell_type": "code",
   "execution_count": null,
   "metadata": {},
   "outputs": [],
   "source": [
    "MD_ids = data_ep['id_de_parliament'].unique().astype(int)"
   ]
  },
  {
   "cell_type": "code",
   "execution_count": null,
   "metadata": {},
   "outputs": [],
   "source": [
    "Parties = data_ep['ppg'].unique()\n",
    "Parties"
   ]
  },
  {
   "cell_type": "code",
   "execution_count": null,
   "metadata": {},
   "outputs": [],
   "source": [
    "def mdid_to_name(mdid, data_ep):\n",
    "    md_rows = data_ep[data_ep['id_de_parliament'] == mdid]\n",
    "    md_row = md_rows.iloc[0]\n",
    "    return f\"{md_row['firstname']} {md_row['lastname']}\"\n",
    "\n",
    "def mdid_to_party(mdid, data_ep):\n",
    "    md_rows = data_ep[data_ep['id_de_parliament'] == mdid]\n",
    "    md_row = md_rows.iloc[0]\n",
    "    return md_row['ppg']"
   ]
  },
  {
   "cell_type": "code",
   "execution_count": null,
   "metadata": {},
   "outputs": [],
   "source": [
    "MD_names = {id: mdid_to_name(id, data_ep) for id in MD_ids}\n",
    "MD_parties = {id: mdid_to_party(id, data_ep) for id in MD_ids}"
   ]
  },
  {
   "cell_type": "code",
   "execution_count": null,
   "metadata": {},
   "outputs": [],
   "source": [
    "leg_year = utils.ELEC_YEARS[ep-1]"
   ]
  },
  {
   "cell_type": "code",
   "execution_count": null,
   "metadata": {},
   "outputs": [],
   "source": [
    "period = utils.year_to_period(leg_year)\n",
    "filepath = BASE_PATH+period+'/network'+period+'.net'\n",
    "os.makedirs(BASE_PATH+period+'/', exist_ok=True)"
   ]
  },
  {
   "cell_type": "code",
   "execution_count": null,
   "metadata": {},
   "outputs": [],
   "source": [
    "vote_options = data_ep['vote_beh'].unique()\n",
    "SV = {id: defaultdict(int) for id in MD_ids}\n",
    "for pid in tqdm(poll_ids):\n",
    "    VC = {vo: [] for vo in vote_options}\n",
    "    for i, vote in data_ep[data_ep['vote_id'] == pid].iterrows():\n",
    "        VC[vote['vote_beh']].append(int(vote['id_de_parliament']))\n",
    "    for voters in VC.values():\n",
    "        lnv = len(voters)\n",
    "        for i in range(lnv):\n",
    "            vo1 = voters[i]\n",
    "            for j in range(i+1, lnv):\n",
    "                vo2 = voters[j]\n",
    "                SV[vo1][vo2] += 1\n",
    "                SV[vo2][vo1] += 1\n",
    "E = set()\n",
    "n_polls = len(poll_ids)\n",
    "for midx, row in SV.items():\n",
    "    for midy, cnt in row.items():\n",
    "        if cnt == 0:\n",
    "            continue\n",
    "        if DISREGARD_ABSENCE:\n",
    "            raise NotImplementedError()\n",
    "        else:\n",
    "            weight = round(cnt / n_polls, 3)\n",
    "        E.add((min(midx, midy), max(midx, midy), weight))\n",
    "E = list(E)\n",
    "with open(filepath, 'w') as f:\n",
    "    MI_LOOKUP = dict()\n",
    "    f.write('*vertices '+str(len(MD_ids))+'\\n')\n",
    "    for i, mdid in enumerate(MD_ids):\n",
    "        MI_LOOKUP[mdid] = i+1\n",
    "        party = MD_parties[mdid]\n",
    "        line = f'{i+1} \"{MD_names[mdid]}\" \"{party}\" \"{mdid}\" \"{get_fraction_color(party)}\"\\n'\n",
    "        f.write(line)\n",
    "    f.write('*edges '+str(len(E))+'\\n')\n",
    "    for midx, midy, weight in E:\n",
    "        ix, iy  = MI_LOOKUP[midx], MI_LOOKUP[midy]\n",
    "        f.write(str(ix) + \" \" + str(iy) + \" \" + str(weight)+ \"\\n\")\n",
    "\n",
    "\n",
    "    "
   ]
  }
 ],
 "metadata": {
  "kernelspec": {
   "display_name": "Python 3",
   "language": "python",
   "name": "python3"
  },
  "language_info": {
   "codemirror_mode": {
    "name": "ipython",
    "version": 3
   },
   "file_extension": ".py",
   "mimetype": "text/x-python",
   "name": "python",
   "nbconvert_exporter": "python",
   "pygments_lexer": "ipython3",
   "version": "3.10.10"
  },
  "orig_nbformat": 4
 },
 "nbformat": 4,
 "nbformat_minor": 2
}
