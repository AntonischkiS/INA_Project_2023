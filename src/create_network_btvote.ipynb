{
 "cells": [
  {
   "cell_type": "code",
   "execution_count": 389,
   "metadata": {
    "ExecuteTime": {
     "start_time": "2023-05-26T11:22:19.393036Z",
     "end_time": "2023-05-26T11:22:19.401148Z"
    }
   },
   "outputs": [],
   "source": [
    "import pandas as pd\n",
    "from collections import defaultdict, Counter\n",
    "import utils\n",
    "import os\n",
    "from create_network import get_fraction_color\n",
    "from tqdm import tqdm"
   ]
  },
  {
   "cell_type": "code",
   "execution_count": 390,
   "metadata": {
    "ExecuteTime": {
     "start_time": "2023-05-26T11:22:19.393036Z",
     "end_time": "2023-05-26T11:22:19.401148Z"
    }
   },
   "outputs": [],
   "source": [
    "DISREGARD_ABSENCE = True"
   ]
  },
  {
   "cell_type": "code",
   "execution_count": 390,
   "outputs": [],
   "source": [],
   "metadata": {
    "collapsed": false,
    "ExecuteTime": {
     "start_time": "2023-05-26T11:22:19.399634Z",
     "end_time": "2023-05-26T11:22:19.401148Z"
    }
   }
  },
  {
   "cell_type": "code",
   "execution_count": 391,
   "outputs": [],
   "source": [
    "BASE_PATH = 'graphs/Bundestag/'\n",
    "if DISREGARD_ABSENCE:\n",
    "    BASE_PATH = 'graphs/Bundestag_only_Attendance/'"
   ],
   "metadata": {
    "collapsed": false,
    "ExecuteTime": {
     "start_time": "2023-05-26T11:22:19.404509Z",
     "end_time": "2023-05-26T11:22:19.407143Z"
    }
   }
  },
  {
   "cell_type": "code",
   "execution_count": 392,
   "outputs": [
    {
     "data": {
      "text/plain": "         id_de_parliament lastname firstname   \n0              11000001.0  Abelein   Manfred  \\\n1              11000001.0  Abelein   Manfred   \n2              11000001.0  Abelein   Manfred   \n3              11000001.0  Abelein   Manfred   \n4              11000001.0  Abelein   Manfred   \n...                   ...      ...       ...   \n1435244        11004971.0    Jäger   Florian   \n1435245        11004971.0    Jäger   Florian   \n1435246        11004972.0   Gökhan      Zeki   \n1435247        11004972.0   Gökhan      Zeki   \n1435248        11004972.0   Gökhan      Zeki   \n\n                                                 party_det       ppg   \n0                         CDU (Christian Democratic Union)   CDU/CSU  \\\n1                         CDU (Christian Democratic Union)   CDU/CSU   \n2                         CDU (Christian Democratic Union)   CDU/CSU   \n3                         CDU (Christian Democratic Union)   CDU/CSU   \n4                         CDU (Christian Democratic Union)   CDU/CSU   \n...                                                    ...       ...   \n1435244                  AfD (Alternative für Deutschland)       AfD   \n1435245                  AfD (Alternative für Deutschland)       AfD   \n1435246  Left/PDS (The Left, previously Party of Democr...  Left/PDS   \n1435247  Left/PDS (The Left, previously Party of Democr...  Left/PDS   \n1435248  Left/PDS (The Left, previously Party of Democr...  Left/PDS   \n\n        party_text  elecper  office_spell  vote_id  vote_date   \n0              CDU       11           1.0  11106.0 1988-11-25  \\\n1              CDU        8           1.0   8028.0 1978-02-16   \n2              CDU        9           1.0   9002.0 1981-03-18   \n3              CDU       10           1.0  10051.0 1985-06-21   \n4              CDU       11           1.0  11194.0 1990-04-26   \n...            ...      ...           ...      ...        ...   \n1435244        AfD       19           1.0  19242.0 2021-08-25   \n1435245        AfD       19           1.0  19243.0 2021-08-25   \n1435246      Linke       19           1.0  19243.0 2021-08-25   \n1435247      Linke       19           1.0  19242.0 2021-08-25   \n1435248      Linke       19           1.0  19244.0 2021-09-07   \n\n                 vote_beh      vote_deviate  mp_id_old   \n0                      no      no deviation       10.0  \\\n1                      no      no deviation       10.0   \n2                      no      no deviation       10.0   \n3                      no      no deviation       10.0   \n4        unexcused absent  unexcused absent       10.0   \n...                   ...               ...        ...   \n1435244               yes    weak deviation        NaN   \n1435245                no      no deviation        NaN   \n1435246                no      no deviation        NaN   \n1435247                no    weak deviation        NaN   \n1435248                no      no deviation        NaN   \n\n                    pers_id_pdbd id_de_manow  \n0        DE_Abelein_Manfred_1930          10  \n1        DE_Abelein_Manfred_1930          10  \n2        DE_Abelein_Manfred_1930          10  \n3        DE_Abelein_Manfred_1930          10  \n4        DE_Abelein_Manfred_1930          10  \n...                          ...         ...  \n1435244                                       \n1435245                                       \n1435246                                       \n1435247                                       \n1435248                                       \n\n[1435249 rows x 15 columns]",
      "text/html": "<div>\n<style scoped>\n    .dataframe tbody tr th:only-of-type {\n        vertical-align: middle;\n    }\n\n    .dataframe tbody tr th {\n        vertical-align: top;\n    }\n\n    .dataframe thead th {\n        text-align: right;\n    }\n</style>\n<table border=\"1\" class=\"dataframe\">\n  <thead>\n    <tr style=\"text-align: right;\">\n      <th></th>\n      <th>id_de_parliament</th>\n      <th>lastname</th>\n      <th>firstname</th>\n      <th>party_det</th>\n      <th>ppg</th>\n      <th>party_text</th>\n      <th>elecper</th>\n      <th>office_spell</th>\n      <th>vote_id</th>\n      <th>vote_date</th>\n      <th>vote_beh</th>\n      <th>vote_deviate</th>\n      <th>mp_id_old</th>\n      <th>pers_id_pdbd</th>\n      <th>id_de_manow</th>\n    </tr>\n  </thead>\n  <tbody>\n    <tr>\n      <th>0</th>\n      <td>11000001.0</td>\n      <td>Abelein</td>\n      <td>Manfred</td>\n      <td>CDU (Christian Democratic Union)</td>\n      <td>CDU/CSU</td>\n      <td>CDU</td>\n      <td>11</td>\n      <td>1.0</td>\n      <td>11106.0</td>\n      <td>1988-11-25</td>\n      <td>no</td>\n      <td>no deviation</td>\n      <td>10.0</td>\n      <td>DE_Abelein_Manfred_1930</td>\n      <td>10</td>\n    </tr>\n    <tr>\n      <th>1</th>\n      <td>11000001.0</td>\n      <td>Abelein</td>\n      <td>Manfred</td>\n      <td>CDU (Christian Democratic Union)</td>\n      <td>CDU/CSU</td>\n      <td>CDU</td>\n      <td>8</td>\n      <td>1.0</td>\n      <td>8028.0</td>\n      <td>1978-02-16</td>\n      <td>no</td>\n      <td>no deviation</td>\n      <td>10.0</td>\n      <td>DE_Abelein_Manfred_1930</td>\n      <td>10</td>\n    </tr>\n    <tr>\n      <th>2</th>\n      <td>11000001.0</td>\n      <td>Abelein</td>\n      <td>Manfred</td>\n      <td>CDU (Christian Democratic Union)</td>\n      <td>CDU/CSU</td>\n      <td>CDU</td>\n      <td>9</td>\n      <td>1.0</td>\n      <td>9002.0</td>\n      <td>1981-03-18</td>\n      <td>no</td>\n      <td>no deviation</td>\n      <td>10.0</td>\n      <td>DE_Abelein_Manfred_1930</td>\n      <td>10</td>\n    </tr>\n    <tr>\n      <th>3</th>\n      <td>11000001.0</td>\n      <td>Abelein</td>\n      <td>Manfred</td>\n      <td>CDU (Christian Democratic Union)</td>\n      <td>CDU/CSU</td>\n      <td>CDU</td>\n      <td>10</td>\n      <td>1.0</td>\n      <td>10051.0</td>\n      <td>1985-06-21</td>\n      <td>no</td>\n      <td>no deviation</td>\n      <td>10.0</td>\n      <td>DE_Abelein_Manfred_1930</td>\n      <td>10</td>\n    </tr>\n    <tr>\n      <th>4</th>\n      <td>11000001.0</td>\n      <td>Abelein</td>\n      <td>Manfred</td>\n      <td>CDU (Christian Democratic Union)</td>\n      <td>CDU/CSU</td>\n      <td>CDU</td>\n      <td>11</td>\n      <td>1.0</td>\n      <td>11194.0</td>\n      <td>1990-04-26</td>\n      <td>unexcused absent</td>\n      <td>unexcused absent</td>\n      <td>10.0</td>\n      <td>DE_Abelein_Manfred_1930</td>\n      <td>10</td>\n    </tr>\n    <tr>\n      <th>...</th>\n      <td>...</td>\n      <td>...</td>\n      <td>...</td>\n      <td>...</td>\n      <td>...</td>\n      <td>...</td>\n      <td>...</td>\n      <td>...</td>\n      <td>...</td>\n      <td>...</td>\n      <td>...</td>\n      <td>...</td>\n      <td>...</td>\n      <td>...</td>\n      <td>...</td>\n    </tr>\n    <tr>\n      <th>1435244</th>\n      <td>11004971.0</td>\n      <td>Jäger</td>\n      <td>Florian</td>\n      <td>AfD (Alternative für Deutschland)</td>\n      <td>AfD</td>\n      <td>AfD</td>\n      <td>19</td>\n      <td>1.0</td>\n      <td>19242.0</td>\n      <td>2021-08-25</td>\n      <td>yes</td>\n      <td>weak deviation</td>\n      <td>NaN</td>\n      <td></td>\n      <td></td>\n    </tr>\n    <tr>\n      <th>1435245</th>\n      <td>11004971.0</td>\n      <td>Jäger</td>\n      <td>Florian</td>\n      <td>AfD (Alternative für Deutschland)</td>\n      <td>AfD</td>\n      <td>AfD</td>\n      <td>19</td>\n      <td>1.0</td>\n      <td>19243.0</td>\n      <td>2021-08-25</td>\n      <td>no</td>\n      <td>no deviation</td>\n      <td>NaN</td>\n      <td></td>\n      <td></td>\n    </tr>\n    <tr>\n      <th>1435246</th>\n      <td>11004972.0</td>\n      <td>Gökhan</td>\n      <td>Zeki</td>\n      <td>Left/PDS (The Left, previously Party of Democr...</td>\n      <td>Left/PDS</td>\n      <td>Linke</td>\n      <td>19</td>\n      <td>1.0</td>\n      <td>19243.0</td>\n      <td>2021-08-25</td>\n      <td>no</td>\n      <td>no deviation</td>\n      <td>NaN</td>\n      <td></td>\n      <td></td>\n    </tr>\n    <tr>\n      <th>1435247</th>\n      <td>11004972.0</td>\n      <td>Gökhan</td>\n      <td>Zeki</td>\n      <td>Left/PDS (The Left, previously Party of Democr...</td>\n      <td>Left/PDS</td>\n      <td>Linke</td>\n      <td>19</td>\n      <td>1.0</td>\n      <td>19242.0</td>\n      <td>2021-08-25</td>\n      <td>no</td>\n      <td>weak deviation</td>\n      <td>NaN</td>\n      <td></td>\n      <td></td>\n    </tr>\n    <tr>\n      <th>1435248</th>\n      <td>11004972.0</td>\n      <td>Gökhan</td>\n      <td>Zeki</td>\n      <td>Left/PDS (The Left, previously Party of Democr...</td>\n      <td>Left/PDS</td>\n      <td>Linke</td>\n      <td>19</td>\n      <td>1.0</td>\n      <td>19244.0</td>\n      <td>2021-09-07</td>\n      <td>no</td>\n      <td>no deviation</td>\n      <td>NaN</td>\n      <td></td>\n      <td></td>\n    </tr>\n  </tbody>\n</table>\n<p>1435249 rows × 15 columns</p>\n</div>"
     },
     "execution_count": 392,
     "metadata": {},
     "output_type": "execute_result"
    }
   ],
   "source": [
    "data = pd.read_stata('data/BTVote/voting_behavior_V2_19492021.dta')\n",
    "data"
   ],
   "metadata": {
    "collapsed": false,
    "ExecuteTime": {
     "start_time": "2023-05-26T11:22:19.407143Z",
     "end_time": "2023-05-26T11:22:22.778016Z"
    }
   }
  },
  {
   "cell_type": "code",
   "execution_count": 393,
   "outputs": [
    {
     "data": {
      "text/plain": "array([11,  8,  9, 10,  6,  7,  5,  3,  4,  2,  1, 12, 13, 14, 16, 15, 17,\n       18, 19], dtype=int8)"
     },
     "execution_count": 393,
     "metadata": {},
     "output_type": "execute_result"
    }
   ],
   "source": [
    "eps = data['elecper'].unique()\n",
    "eps"
   ],
   "metadata": {
    "collapsed": false,
    "ExecuteTime": {
     "start_time": "2023-05-26T11:22:22.778016Z",
     "end_time": "2023-05-26T11:22:22.789259Z"
    }
   }
  },
  {
   "cell_type": "code",
   "execution_count": 394,
   "outputs": [],
   "source": [
    "ep = 17  # set election period"
   ],
   "metadata": {
    "collapsed": false,
    "ExecuteTime": {
     "start_time": "2023-05-26T11:22:22.792171Z",
     "end_time": "2023-05-26T11:22:22.792680Z"
    }
   }
  },
  {
   "cell_type": "code",
   "execution_count": 395,
   "metadata": {
    "ExecuteTime": {
     "start_time": "2023-05-26T11:22:22.792680Z",
     "end_time": "2023-05-26T11:22:22.935262Z"
    }
   },
   "outputs": [
    {
     "data": {
      "text/plain": "['yes', 'no', 'excused absence', 'abstain', 'unexcused absent']\nCategories (7, object): ['excused absence' < 'yes' < 'no' < 'abstain' < 'unexcused absent' < 'invalid vote' < 'voting behavior not/wrongly protocolled']"
     },
     "execution_count": 395,
     "metadata": {},
     "output_type": "execute_result"
    }
   ],
   "source": [
    "data_ep = data[data['elecper'] == ep]\n",
    "data_ep['vote_beh'].unique()"
   ]
  },
  {
   "cell_type": "code",
   "execution_count": 396,
   "metadata": {
    "ExecuteTime": {
     "start_time": "2023-05-26T11:22:22.858590Z",
     "end_time": "2023-05-26T11:22:22.935262Z"
    }
   },
   "outputs": [],
   "source": [
    "poll_ids = data_ep['vote_id'].unique().astype(int)"
   ]
  },
  {
   "cell_type": "code",
   "execution_count": 397,
   "metadata": {
    "ExecuteTime": {
     "start_time": "2023-05-26T11:22:22.868266Z",
     "end_time": "2023-05-26T11:22:22.935262Z"
    }
   },
   "outputs": [],
   "source": [
    "MD_ids = data_ep['id_de_parliament'].unique().astype(int)"
   ]
  },
  {
   "cell_type": "code",
   "execution_count": 398,
   "metadata": {
    "ExecuteTime": {
     "start_time": "2023-05-26T11:22:22.872687Z",
     "end_time": "2023-05-26T11:22:22.935262Z"
    }
   },
   "outputs": [
    {
     "data": {
      "text/plain": "['Left/PDS', 'SPD', 'CDU/CSU', 'FDP', 'Greens']\nCategories (7, object): ['SPD' < 'CDU/CSU' < 'FDP' < 'Greens' < 'Left/PDS' < 'other' < 'AfD']"
     },
     "execution_count": 398,
     "metadata": {},
     "output_type": "execute_result"
    }
   ],
   "source": [
    "Parties = data_ep['ppg'].unique()\n",
    "Parties"
   ]
  },
  {
   "cell_type": "code",
   "execution_count": 399,
   "metadata": {
    "ExecuteTime": {
     "start_time": "2023-05-26T11:22:22.877563Z",
     "end_time": "2023-05-26T11:22:22.935262Z"
    }
   },
   "outputs": [],
   "source": [
    "def mdid_to_name(mdid, data_ep):\n",
    "    md_rows = data_ep[data_ep['id_de_parliament'] == mdid]\n",
    "    md_row = md_rows.iloc[0]\n",
    "    return f\"{md_row['firstname']} {md_row['lastname']}\"\n",
    "\n",
    "def mdid_to_party(mdid, data_ep):\n",
    "    md_rows = data_ep[data_ep['id_de_parliament'] == mdid]\n",
    "    md_row = md_rows.iloc[0]\n",
    "    return md_row['ppg']"
   ]
  },
  {
   "cell_type": "code",
   "execution_count": 400,
   "metadata": {
    "ExecuteTime": {
     "start_time": "2023-05-26T11:22:22.881886Z",
     "end_time": "2023-05-26T11:22:23.746875Z"
    }
   },
   "outputs": [],
   "source": [
    "MD_names = {id: mdid_to_name(id, data_ep) for id in MD_ids}\n",
    "MD_parties = {id: mdid_to_party(id, data_ep) for id in MD_ids}"
   ]
  },
  {
   "cell_type": "code",
   "execution_count": 401,
   "metadata": {
    "ExecuteTime": {
     "start_time": "2023-05-26T11:22:23.746875Z",
     "end_time": "2023-05-26T11:22:23.749896Z"
    }
   },
   "outputs": [],
   "source": [
    "leg_year = utils.ELEC_YEARS[ep-1]"
   ]
  },
  {
   "cell_type": "code",
   "execution_count": 402,
   "metadata": {
    "ExecuteTime": {
     "start_time": "2023-05-26T11:22:23.749896Z",
     "end_time": "2023-05-26T11:22:23.752881Z"
    }
   },
   "outputs": [],
   "source": [
    "period = utils.year_to_period(leg_year)\n",
    "filepath = BASE_PATH+period+'/network'+period+'.net'\n",
    "os.makedirs(BASE_PATH+period+'/', exist_ok=True)"
   ]
  },
  {
   "cell_type": "code",
   "execution_count": 403,
   "metadata": {
    "ExecuteTime": {
     "start_time": "2023-05-26T11:22:23.752881Z",
     "end_time": "2023-05-26T11:22:23.759776Z"
    }
   },
   "outputs": [],
   "source": [
    "if not DISREGARD_ABSENCE:\n",
    "    vote_options = data_ep['vote_beh'].unique()\n",
    "    SV = {id: defaultdict(int) for id in MD_ids}\n",
    "    for pid in tqdm(poll_ids):\n",
    "        VC = {vo: [] for vo in vote_options}\n",
    "        for i, vote in data_ep[data_ep['vote_id'] == pid].iterrows():\n",
    "            VC[vote['vote_beh']].append(int(vote['id_de_parliament']))\n",
    "        for voters in VC.values():\n",
    "            lnv = len(voters)\n",
    "            for i in range(lnv):\n",
    "                vo1 = voters[i]\n",
    "                for j in range(i+1, lnv):\n",
    "                    vo2 = voters[j]\n",
    "                    SV[vo1][vo2] += 1\n",
    "                    SV[vo2][vo1] += 1\n",
    "    E = set()\n",
    "    n_polls = len(poll_ids)\n",
    "    for midx, row in SV.items():\n",
    "        for midy, cnt in row.items():\n",
    "            if cnt == 0:\n",
    "                continue\n",
    "            else:\n",
    "                weight = round(cnt / n_polls, 3)\n",
    "            E.add((min(midx, midy), max(midx, midy), weight))\n",
    "    E = list(E)\n",
    "    with open(filepath, 'w') as f:\n",
    "        MI_LOOKUP = dict()\n",
    "        f.write('*vertices '+str(len(MD_ids))+'\\n')\n",
    "        for i, mdid in enumerate(MD_ids):\n",
    "            MI_LOOKUP[mdid] = i+1\n",
    "            party = MD_parties[mdid]\n",
    "            line = f'{i+1} \"{MD_names[mdid]}\" \"{party}\" \"{mdid}\" \"{get_fraction_color(party)}\"\\n'\n",
    "            f.write(line)\n",
    "        f.write('*edges '+str(len(E))+'\\n')\n",
    "        for midx, midy, weight in E:\n",
    "            ix, iy  = MI_LOOKUP[midx], MI_LOOKUP[midy]\n",
    "            f.write(str(ix) + \" \" + str(iy) + \" \" + str(weight)+ \"\\n\")\n",
    "\n",
    "\n"
   ]
  },
  {
   "cell_type": "code",
   "execution_count": 404,
   "outputs": [
    {
     "name": "stderr",
     "output_type": "stream",
     "text": [
      "100%|██████████| 275/275 [02:03<00:00,  2.22it/s]\n"
     ]
    }
   ],
   "source": [
    "if DISREGARD_ABSENCE:\n",
    "    vote_options = data_ep['vote_beh'].unique()\n",
    "    SV = {id: defaultdict(int) for id in MD_ids}\n",
    "    AC = {id: defaultdict(int) for id in MD_ids}\n",
    "    for pid in tqdm(poll_ids):\n",
    "        VC = {vo: [] for vo in vote_options}\n",
    "        AV = []\n",
    "        for i, vote in data_ep[data_ep['vote_id'] == pid].iterrows():\n",
    "            if not vote['vote_beh'] in ['unexcused absent', 'excused absence']:\n",
    "                VC[vote['vote_beh']].append(int(vote['id_de_parliament']))\n",
    "                AV.append(vote['id_de_parliament'])\n",
    "        for vo1 in AV:\n",
    "            for vo2 in AV:\n",
    "                AC[vo1][vo2] += 1\n",
    "        for voters in VC.values():\n",
    "            lnv = len(voters)\n",
    "            for i in range(lnv):\n",
    "                vo1 = voters[i]\n",
    "                for j in range(i+1, lnv):\n",
    "                    vo2 = voters[j]\n",
    "                    SV[vo1][vo2] += 1\n",
    "                    SV[vo2][vo1] += 1\n",
    "    E = set()\n",
    "    n_polls = len(poll_ids)\n",
    "    for midx, row in SV.items():\n",
    "        for midy, cnt in row.items():\n",
    "            if cnt == 0:\n",
    "                continue\n",
    "            else:\n",
    "                weight = round(cnt / AC[midy][midx], 3)\n",
    "            E.add((min(midx, midy), max(midx, midy), weight))\n",
    "    E = list(E)\n",
    "    with open(filepath, 'w') as f:\n",
    "        MI_LOOKUP = dict()\n",
    "        f.write('*vertices '+str(len(MD_ids))+'\\n')\n",
    "        #print('ydfbyc')\n",
    "        for i, mdid in enumerate(MD_ids):\n",
    "            MI_LOOKUP[mdid] = i+1\n",
    "            party = MD_parties[mdid]\n",
    "            line = f'{i+1} \"{MD_names[mdid]}\" \"{party}\" \"{mdid}\" \"{get_fraction_color(party)}\"\\n'\n",
    "            f.write(line)\n",
    "        f.write('*edges '+str(len(E))+'\\n')\n",
    "        #print('ydfbybdgnycvbcvc')\n",
    "        for midx, midy, weight in E:\n",
    "            ix, iy  = MI_LOOKUP[midx], MI_LOOKUP[midy]\n",
    "            f.write(str(ix) + \" \" + str(iy) + \" \" + str(weight)+ \"\\n\")"
   ],
   "metadata": {
    "collapsed": false,
    "ExecuteTime": {
     "start_time": "2023-05-26T11:22:23.764820Z",
     "end_time": "2023-05-26T11:24:29.134859Z"
    }
   }
  }
 ],
 "metadata": {
  "kernelspec": {
   "display_name": "Python 3",
   "language": "python",
   "name": "python3"
  },
  "language_info": {
   "codemirror_mode": {
    "name": "ipython",
    "version": 3
   },
   "file_extension": ".py",
   "mimetype": "text/x-python",
   "name": "python",
   "nbconvert_exporter": "python",
   "pygments_lexer": "ipython3",
   "version": "3.10.10"
  },
  "orig_nbformat": 4
 },
 "nbformat": 4,
 "nbformat_minor": 2
}
